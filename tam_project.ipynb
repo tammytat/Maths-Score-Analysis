## Introduction 
  The good academic performance of students at the senior High school is of paramount importance in every educational system. Meanwhile, numerous factors influence the academic performance of students and have been researched, but many problems persists(Evans Austin Brew et. al, 2021). This study used a narrative review method to review the literature on the academic performance of students at Senior High Schools and various factors affecting students performance.This project elucidated how these factors negatively affect academic performance and the need for them to be minimized to improve student's academic performance.
    Search terms employed in this study includes but not limited to , importance of meals in academic performance, parental educational level, ethinicity, test preparation, e.t.c
    The academic achievement of students is influenced by parents’ educational background, this draw the attentions of educationist and administrators. In light of this, (Suresh, 2012) studied the impact of parents’ socioeconomic status on parental involvement at home for high academic achievement of students, He asserted that students from parents with high educational qualification scores high in the school. High educated parents appear to devote a lot of time, energy, and money to help their children to perform well in academic activities. Educated parents may assist their children to do homework given to them by the school and even to prepare timetable for the children to follow in relation to their school works at home, and make sure they abide by it.
     Racial and ethnic disparities in childrens academic performance outcomes are a pervasive reality in U.S schools.
 Research suggest that there are racial/ ethnic differrence in the relation between home and school factors and children learning (Hill and Craft, 2003) found that parents home involvment predicts white children's mathamatics achivievment and parents home involvement also predict black children's mathematics achievement. (Fan, William and Wolters, 2012) found  race/ethnic difference among Asians, Black, White, and Latino children in the effects that parental advice, and communication with childrens school had on their children's school motivation
     Also a large body of research provides evidence that better nourished children perform better in school ( Glewwe et al., 2001,Winicki and Jemison, 2003, Alderman et al., 2006, victoria et al., 2008). Because food insecurity, food insufficiency and nutrition deficiencies are more pavalent for poor children than non- poor children. in the united states, The school Breaskfast program (SBP) was established with the child Nutrition Act of 1996 to improve the nutritional needs of children " in recognition of the demonstrated relationship between food and good nutrition and the capacity of children to develop and learn" . Upon signing the bill President Johnson stated that " good nutrition is essential to good learning"(school Nutrition Association, 2011).
     lastly the decision to not prepare by students raises a fundamental question concerning exams and performance. if students  have little knowlege  of the content and format of their exxam, is their performance a true indication of their  math skills? afterall, many students who take math placement  exams have not used  the full range of the skills they have been exposed to in a long while, so refamiliarizing themselves to the subject maybe beneficial. ( Scott-Claytonm 2012)

## Project Aim 
* To improve the performance of students in math
* To minimize the negative effects of the factors affecting students performance

## Project Objectives

    1. parental level of education and students math scores
    2. ethinicity and students math scores
    3. reading and math score
    4. writing and math score
    lunch taking and students math scores
    5. lunch taking and students math scores

## Research Questions
 * Is there a relationship between parental level of education and students math score?
 * How does ethnicity affect students performance in math?
 * Is  having high score in reading related to math score?
 * How does writing score impact math score?
 * Is there a relationship between lunch type and students math score
![image-2.png](attachment:image-2.png)
 
##  Problem Statement
 Students performance in math has always been observed to be lower relative to other subjects. 
This project seeks to determine the extent to which factors like writing score, reading score, parents’ educational level, ethnicity, test preparation and taking standard lunch impact students’ scores in math.

            
   


## Importing necessary libraries

import pandas as pd
import numpy as np
import seaborn as sns
import matplotlib.pyplot as plt
import scipy.stats as ss
from scipy.stats import ttest_ind
from scipy .stats import pearsonr
from scipy.stats import f_oneway

## Importing the dataset

students_record1 = pd.read_csv(r'C:\Users\Yemisi\Desktop\python\final\submitted\exams.csv')
students_record1.head(2)

## Data cleaning
### Check for our columns names

our_columns =pd.DataFrame(students_record1.columns)
our_columns

### To check the number of our rows and columns

students_record1.shape

### Let us check for the sum of null values in our dataset

students_record1.isnull().sum()

We can see that our dataset have no null values

### Checking for completeness of the data

students_record1.info()

We can notice that all rows are complete have 1000 rows and the datatypes are correct

gender = students_record1['gender'].value_counts() # Male count vs Female count
gender

## Now check our distribution plots

# parents distribution plot
students_record1['parental level of education'].value_counts().plot(kind = 'bar')
plt.title(' Parents level of education')

# ethnicity Distribution Plot
students_record1['race/ethnicity'].value_counts().plot(kind = 'bar')


#math score distribution plot
sns.histplot(students_record1['math score'], kde = True)

# reading distribution plot
sns.histplot(students_record1['reading score'], kde = True)
plt.title('Reading Score Distribution')

# writing distribution plot
sns.histplot(students_record1['writing score'], kde = True)
plt.title('writing distribution ')

# lunch type distribution plot
food = students_record1['lunch'].value_counts()

food.plot(kind = 'bar')
plt.legend(title = 'Lunch count plot')

prep =students_record1['test preparation course'].value_counts()
prep.plot(kind = 'bar')
plt.title(' preparation ')

### lets check for the impact of parental level of education on math score

#students_record1['parental level of education'].value_counts()
sns.barplot(y= 'parental level of education', x= 'math score', data = students_record1)
plt.figure(figsize=(30,15))
#plt.legend(loc =1, title= 'Parental level of education against math score')

We discover that students’ whose parents with at least some higher  college, bachelor’s degree and Master  degree have higher math scores


## 2.
Lets investigate if there is a relationship between students parental level of education and the math score
Anova test


list_sc = students_record1[students_record1['parental level of education'] =="some college" ]
list_sd = students_record1[students_record1['parental level of education'] =="associate's degree" ]
list_shs = students_record1[students_record1['parental level of education'] =="some high school" ]
list_bd = students_record1[students_record1['parental level of education'] =="bachelor's degree" ]
list_md = students_record1[students_record1['parental level of education'] =="master's degree" ]
list_hs = students_record1[students_record1['parental level of education'] =="high school" ]
f_oneway(list_sc['math score'], list_sd['math score'], list_shs['math score'], list_bd['math score'], list_md['math score'], list_hs['math score'])

H0: there is no significant effect of parents’ level of education on students' math score.

H1: there is a significant effect of parents level of education on students' math score.


Since p- value(5.16e-05) is less than the critical value(0.05), we reject the H0. Therefore the effect of parents level of education on students' math score is statistically significant


### Lets find out if there is an effect of taking the test preparation course on math score.

sns.barplot(y= 'test preparation course', x= 'math score', data = students_record1)
plt.figure(figsize=(30,15))

we can see that students who completed a test preparation course have higher chance of good scores in math

#### lets test with our p- value to know the significant effect of test preparation course on  math score

list_c = students_record1[students_record1['test preparation course'] =="completed" ]
list_n = students_record1[students_record1['test preparation course'] =="none" ]

ttest_ind(list_c['math score'], list_n['math score'])

H0: there is no significance effect of taking preparation course on math score.
H1: there is a significance effect of taking test preparation course on math score.


Since p- value(0.00014) is less than the critical value(0.05), we reject the H0 . Therefore the of taking test preparation course on students' math score is statistically significant


### lets see the relationship between, reading score and maths score, writingscore and math score, using a pairplot

math = students_record1['math score']
writing = students_record1['writing score']
reading = students_record1['reading score']
sns.pairplot(students_record1)

### we are checking for the relation ship

plt.style.use('ggplot')
correl = students_record1.corr()
correl

### lets use a heatmap to display it again

# heatmap correlation of the scores because they are numeric values in the data set
sns.heatmap(correl,annot = True,cmap='Blues')

From the above you can notice a value of 0.81 for reading and math score, which is suggestive of a strong relationship between reading and maths score
and also you will notice that for writing and maths score the value is 0.79 which is also shows a strong relationship between writing and math scores

1.
lets us test with the p-value to know the degree of relations between reading and math scores

list1 = students_record1['math score']
list2 =  students_record1['reading score']
corr,_ = pearsonr(list1,list2)
corr,_

We can see that the p- value is way lesser than 0.05(the critical value hence we fail to accept it 
therefore 
Ho: there is no significant relation between math score and reading score.
H1: there is a significant relation between average math score and reading score.
Our conclusion is that there is a significant difference in the average math score and writing score

2.
lets us test the with the p-value to know the degree of relation between writing and math scores

list_m = students_record1['math score']
list_w = students_record1['writing score']
corr2,_ = pearsonr(list_m, list_w)
corr2,_

we can see that the p- value is way lesser than 0.05 hence we fail to accept it 
therefore 
Ho: there is no significant relation between math score and writing score.
H1: there is a significant relation between math score and writing score.
Our conclusion is that there is a significant relation between math score and writing score

### lets check to know if there is a relationship between the students that takes standard lunch and does who don't

sns.barplot(y= 'lunch', x= 'math score', data = students_record1)
plt.figure(figsize=(30,15))

Lunch type have an effect on math score.


list_s = students_record1[students_record1['lunch'] =="standard" ]
list_f = students_record1[students_record1['lunch'] =="free/reduced" ]
ttest_ind(list_s['math score'], list_f['math score'])

H0: there is no statistical significance  in the correlation between standard/free reduced lunch and math score.

H1: there is a statistical significance in the correlation between standard/free reduced lunch and math score.

Since p- value(2.90e-34) is less than the critical value(0.05), we reject the H0 and the correlation between standard/free reduced lunch and reading score.


